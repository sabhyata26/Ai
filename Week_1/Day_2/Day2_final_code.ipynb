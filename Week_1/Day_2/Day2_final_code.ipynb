{
  "nbformat": 4,
  "nbformat_minor": 0,
  "metadata": {
    "colab": {
      "provenance": []
    },
    "kernelspec": {
      "name": "python3",
      "display_name": "Python 3"
    },
    "language_info": {
      "name": "python"
    }
  },
  "cells": [
    {
      "cell_type": "code",
      "execution_count": null,
      "metadata": {
        "colab": {
          "base_uri": "https://localhost:8080/"
        },
        "id": "KlW3FFtnvNYE",
        "outputId": "e1cf86c8-f98e-4f9b-8f43-5233828e6058"
      },
      "outputs": [
        {
          "output_type": "stream",
          "name": "stdout",
          "text": [
            "This is my second class on AI\n"
          ]
        }
      ],
      "source": [
        "print(\"This is my second class on AI\")"
      ]
    },
    {
      "cell_type": "markdown",
      "source": [
        "# Functions in Python"
      ],
      "metadata": {
        "id": "owcrw2Gjw-Jy"
      }
    },
    {
      "cell_type": "code",
      "source": [
        "def area_of_square(num):\n",
        "  return num * num\n",
        "print(\"The area of first square is:\",area_of_square(6))\n",
        "#Area of second square\n",
        "print(\"The area of second square is:\",area_of_square(16))"
      ],
      "metadata": {
        "colab": {
          "base_uri": "https://localhost:8080/"
        },
        "id": "IJz9BFjmw6Uj",
        "outputId": "217231ef-2d88-44db-8373-4e06404755bd"
      },
      "execution_count": null,
      "outputs": [
        {
          "output_type": "stream",
          "name": "stdout",
          "text": [
            "The area of first square is: 36\n",
            "The area of second square is: 256\n"
          ]
        }
      ]
    },
    {
      "cell_type": "markdown",
      "source": [
        "#### Homework: Find area of circle"
      ],
      "metadata": {
        "id": "lckiLs2GyOrU"
      }
    },
    {
      "cell_type": "markdown",
      "source": [
        "# Lists in Python"
      ],
      "metadata": {
        "id": "W4RezJPdyqht"
      }
    },
    {
      "cell_type": "code",
      "source": [
        "# Creating a list of fruits\n",
        "fruits = [\"apple\", \"banana\", \"kiwi\", \"orange\", \"strawberry\"]\n",
        "\n",
        "# #Accessing elements\n",
        "# print(fruits[0]) #accessing first elements in the list\n",
        "# print(fruits[4]) #accesing 5'th element in the list\n",
        "# print(fruits[-1]) #accesing last element in the list\n",
        "# print(fruits[-2]) #accesing second last element in the list\n",
        "\n",
        "# #Adding elements from list\n",
        "# fruits.append(\"mango\")\n",
        "# print(fruits)\n",
        "\n",
        "\n",
        "# #Removing elements from list\n",
        "fruits.remove(\"orange\")\n",
        "print(fruits)"
      ],
      "metadata": {
        "colab": {
          "base_uri": "https://localhost:8080/"
        },
        "id": "vewOp8UlxgkJ",
        "outputId": "0c813611-579d-4d6b-a010-6c5322e71274"
      },
      "execution_count": null,
      "outputs": [
        {
          "output_type": "stream",
          "name": "stdout",
          "text": [
            "['apple', 'banana', 'kiwi', 'strawberry']\n"
          ]
        }
      ]
    },
    {
      "cell_type": "markdown",
      "source": [
        "# Tuples in Python (Home-Task)"
      ],
      "metadata": {
        "id": "uY8jLcc_2YhU"
      }
    },
    {
      "cell_type": "markdown",
      "source": [
        "# Sets in Python (Home-Task)"
      ],
      "metadata": {
        "id": "36p47BO458D4"
      }
    },
    {
      "cell_type": "markdown",
      "source": [
        "# Dictionaries in Python"
      ],
      "metadata": {
        "id": "PIREzbB86FOJ"
      }
    },
    {
      "cell_type": "code",
      "source": [
        "# Creating a Dictionary\n",
        "student = {\n",
        "    \"name\" : \"Ram Prasai\",\n",
        "    \"age\"  : 30,\n",
        "    \"Course\" : \"Computer Science\"\n",
        "}\n",
        "\n",
        "#Accessing values of a particular key in a dictionary\n",
        "print(student[\"age\"])\n",
        "\n",
        "#Updating values of a particular key in as dictionary\n",
        "student[\"age\"] = 89\n",
        "print(student[\"age\"])\n",
        "\n",
        "# Adding new key-value pair on the dictionary\n",
        "student[\"address\"] = \"Kathmandu\"\n",
        "\n",
        "print(student)\n",
        "\n",
        "# Removing a key-value pair from a dictionary\n",
        "del student[\"Course\"]\n",
        "print(student)"
      ],
      "metadata": {
        "colab": {
          "base_uri": "https://localhost:8080/"
        },
        "id": "lrvGuVrVzlbN",
        "outputId": "3c1d4a40-bc98-4139-eca2-fdf56a8d21c3"
      },
      "execution_count": null,
      "outputs": [
        {
          "output_type": "stream",
          "name": "stdout",
          "text": [
            "30\n",
            "89\n",
            "{'name': 'Ram Prasai', 'age': 89, 'Course': 'Computer Science', 'address': 'Kathmandu'}\n",
            "{'name': 'Ram Prasai', 'age': 89, 'address': 'Kathmandu'}\n"
          ]
        }
      ]
    },
    {
      "cell_type": "markdown",
      "source": [
        "# String Manipulation in Python(Tomorrow)"
      ],
      "metadata": {
        "id": "eGvJZfHp9nqe"
      }
    },
    {
      "cell_type": "code",
      "source": [
        "#creating a variable named text which contains leading and trailing spaces\n",
        "text = \"   HELLO PYTHON   \"\n",
        "print(text)\n",
        "\n",
        "#using .lower() method/function to introduce lowercase\n",
        "print(text.lower())\n",
        "\n",
        "print(text.strip())\n",
        "\n",
        "print(text.replace(\"PYTHON\", \"JAVA\"))\n",
        "\n",
        "#SPLITTING AND JOINING\n",
        "#Method/function chaining\n",
        "splitted = text.strip().split()\n",
        "print(splitted)\n",
        "\n",
        "#using .join()method to join the separated words\n",
        "joined = '-'.join(splitted)\n",
        "print(joined)"
      ],
      "metadata": {
        "id": "GNdx9TlI79Yh",
        "colab": {
          "base_uri": "https://localhost:8080/"
        },
        "outputId": "fc118b6b-7d29-4ab5-c5dd-5f0c91a7065c"
      },
      "execution_count": 8,
      "outputs": [
        {
          "output_type": "stream",
          "name": "stdout",
          "text": [
            "   HELLO PYTHON   \n",
            "   hello python   \n",
            "HELLO PYTHON\n",
            "   HELLO JAVA   \n",
            "['HELLO', 'PYTHON']\n",
            "HELLO-PYTHON\n"
          ]
        }
      ]
    },
    {
      "cell_type": "markdown",
      "source": [
        "# MODULAR PROGRAMMING IN PYTHON"
      ],
      "metadata": {
        "id": "9qn2n-f5Cqkk"
      }
    },
    {
      "cell_type": "code",
      "source": [
        "#Importing math module\n",
        "import math\n",
        "\n",
        "# #getting square root of 25\n",
        "# square_root = math.sqrt(25)\n",
        "# print(\"The square root of 25 is\",int(square_root))\n",
        "\n",
        "#Flooring and Ceiling\n",
        "floor = math.floor(4.8)\n",
        "print(floor)\n",
        "\n",
        "ceil = math.ceil(4.8)\n",
        "print(ceil)\n"
      ],
      "metadata": {
        "colab": {
          "base_uri": "https://localhost:8080/"
        },
        "id": "06aSrsQsAMbA",
        "outputId": "d82e0e60-3d9d-4f0a-f02e-d35479b114ab"
      },
      "execution_count": 12,
      "outputs": [
        {
          "output_type": "stream",
          "name": "stdout",
          "text": [
            "4\n",
            "5\n"
          ]
        }
      ]
    },
    {
      "cell_type": "markdown",
      "source": [
        "# MODULE ALIASING"
      ],
      "metadata": {
        "id": "TnaTx2dYEGqs"
      }
    },
    {
      "cell_type": "code",
      "source": [
        "# import matplotlib.pyplot as plt"
      ],
      "metadata": {
        "id": "kVgKN37MC5xR"
      },
      "execution_count": null,
      "outputs": []
    },
    {
      "cell_type": "markdown",
      "source": [
        "# VARIABLE ALIASING"
      ],
      "metadata": {
        "id": "-ieJBZLbEYHj"
      }
    },
    {
      "cell_type": "code",
      "source": [
        "a = [1,2,3]\n",
        "print(a)\n",
        "b = a\n",
        "b.append(4)\n",
        "print(b)\n",
        "print(a)\n",
        "\n",
        "#HOMEWORK: Function/Method Aliasing"
      ],
      "metadata": {
        "colab": {
          "base_uri": "https://localhost:8080/"
        },
        "id": "z4X2ZxTpEa52",
        "outputId": "5b98dced-30c0-4ada-9c5b-e40e6295f788"
      },
      "execution_count": 14,
      "outputs": [
        {
          "output_type": "stream",
          "name": "stdout",
          "text": [
            "[1, 2, 3]\n",
            "[1, 2, 3, 4]\n",
            "[1, 2, 3, 4]\n"
          ]
        }
      ]
    },
    {
      "cell_type": "markdown",
      "source": [
        "# RANDOMS IN PYTHON"
      ],
      "metadata": {
        "id": "hMGYY1l7FQ6c"
      }
    },
    {
      "cell_type": "code",
      "source": [
        "import random as rdn\n",
        "print(rdn.randint(1,10))"
      ],
      "metadata": {
        "colab": {
          "base_uri": "https://localhost:8080/"
        },
        "id": "Oc0Aio4WE2Hq",
        "outputId": "87d8e03e-9a6e-4658-db70-f482163ae5f9"
      },
      "execution_count": 21,
      "outputs": [
        {
          "output_type": "stream",
          "name": "stdout",
          "text": [
            "7\n"
          ]
        }
      ]
    },
    {
      "cell_type": "code",
      "source": [
        "random_float = rdn.random()\n",
        "print(random_float)"
      ],
      "metadata": {
        "colab": {
          "base_uri": "https://localhost:8080/"
        },
        "id": "TsxpVWceFjGy",
        "outputId": "8750728e-430a-4e4e-c768-aab1214519c7"
      },
      "execution_count": 31,
      "outputs": [
        {
          "output_type": "stream",
          "name": "stdout",
          "text": [
            "0.8711451032269008\n"
          ]
        }
      ]
    },
    {
      "cell_type": "code",
      "source": [
        "random_floating_in_range = rdn.uniform(10.5,99.5)\n",
        "print(\"With Points\",random_floating_in_range)\n",
        "new = \"%.2f\" % random_floating_in_range\n",
        "print(\"With few points\",new)\n",
        "#HOMEWORK: EXPLORE MORE MODULES or FUNCTIONS/METHODS"
      ],
      "metadata": {
        "colab": {
          "base_uri": "https://localhost:8080/"
        },
        "id": "ohD5RTmkFtku",
        "outputId": "00ccff8a-ef1d-4c1e-d882-eaaacc066d01"
      },
      "execution_count": 64,
      "outputs": [
        {
          "output_type": "stream",
          "name": "stdout",
          "text": [
            "With Points 60.46332878773756\n",
            "With few points 60.46\n"
          ]
        }
      ]
    },
    {
      "cell_type": "markdown",
      "source": [
        "# CREATING CUSTOM MODULES IN PYTHON"
      ],
      "metadata": {
        "id": "8VoruDcYGxn1"
      }
    },
    {
      "cell_type": "code",
      "source": [
        "#helper.py\n",
        "%%writefile helper123.py\n",
        "def add_numbers(a,b):\n",
        "  return a+b"
      ],
      "metadata": {
        "colab": {
          "base_uri": "https://localhost:8080/"
        },
        "id": "JSLlBUcCGe9T",
        "outputId": "6790f8c2-31a8-4f1f-a18b-cd56ac59c3e3"
      },
      "execution_count": 57,
      "outputs": [
        {
          "output_type": "stream",
          "name": "stdout",
          "text": [
            "Writing helper123.py\n"
          ]
        }
      ]
    },
    {
      "cell_type": "code",
      "source": [
        "#main.py\n",
        "import helper123\n",
        "result = helper123.add_numbers(15,24)\n",
        "print(result)"
      ],
      "metadata": {
        "colab": {
          "base_uri": "https://localhost:8080/"
        },
        "id": "7FuV6OwyHG25",
        "outputId": "fe400027-400c-4be4-e374-857aa1f00f14"
      },
      "execution_count": 59,
      "outputs": [
        {
          "output_type": "stream",
          "name": "stdout",
          "text": [
            "39\n"
          ]
        }
      ]
    },
    {
      "cell_type": "code",
      "source": [],
      "metadata": {
        "id": "3XZzkn3DHRsF"
      },
      "execution_count": null,
      "outputs": []
    }
  ]
}