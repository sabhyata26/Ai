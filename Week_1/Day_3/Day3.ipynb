{
  "nbformat": 4,
  "nbformat_minor": 0,
  "metadata": {
    "colab": {
      "provenance": []
    },
    "kernelspec": {
      "name": "python3",
      "display_name": "Python 3"
    },
    "language_info": {
      "name": "python"
    }
  },
  "cells": [
    {
      "cell_type": "markdown",
      "source": [
        "#**Starting of Day 3**"
      ],
      "metadata": {
        "id": "90XLORhe8vw4"
      }
    },
    {
      "cell_type": "markdown",
      "source": [
        "#String manipulation in python"
      ],
      "metadata": {
        "id": "40VgSKvk80d4"
      }
    },
    {
      "cell_type": "code",
      "execution_count": null,
      "metadata": {
        "colab": {
          "base_uri": "https://localhost:8080/"
        },
        "id": "CLzo8s4U8rUw",
        "outputId": "88fc48b6-b659-421b-814d-b49b2a5c453c"
      },
      "outputs": [
        {
          "output_type": "stream",
          "name": "stdout",
          "text": [
            "   HEllO PYTHON  \n",
            "   hello python  \n",
            "HEllO PYTHON\n",
            "   HEllO WORLD  \n",
            "['HEllO', 'PYTHON']\n",
            "HEllO-PYTHON\n"
          ]
        }
      ],
      "source": [
        "#creating variable with contains leading and trailing spaces\n",
        "text=\"   HEllO PYTHON  \"\n",
        "print(text)\n",
        "#using .lower() function\n",
        "print(text.lower())\n",
        "#.strip function removes leading and trailing spaces.\n",
        "print(text.strip())\n",
        "#.replace replaces a string using two arguments\n",
        "print(text.replace(\"PYTHON\",\"WORLD\"))\n",
        "#splitting and joining\n",
        "#method/function chaining (using two functions at the same line)\n",
        "splitted=text.strip().split()\n",
        "print(splitted)\n",
        "#joining the seperated word using a symbol\n",
        "joined='-'.join(splitted)\n",
        "print(joined)"
      ]
    },
    {
      "cell_type": "markdown",
      "source": [
        "#using modules"
      ],
      "metadata": {
        "id": "3NXvGbFyC8_J"
      }
    },
    {
      "cell_type": "code",
      "source": [
        "#using math module\n",
        "import math\n",
        "#using while loop to let user continue using\n",
        "while True:\n",
        "  a=int(input(\"Enter a square number:\"))\n",
        "  print(\"The square root is:\",int(math.sqrt(a)))\n",
        "  choice=str(input(\"Do you want to continue:(yes/no)\"))\n",
        "  if choice!=\"yes\":\n",
        "    print(\"Thanks for using!!\")\n",
        "    break"
      ],
      "metadata": {
        "id": "yG8l3JlfAQ1t",
        "colab": {
          "base_uri": "https://localhost:8080/"
        },
        "outputId": "2a73cfb2-05f5-42eb-ca0b-2f19000def6a"
      },
      "execution_count": null,
      "outputs": [
        {
          "output_type": "stream",
          "name": "stdout",
          "text": [
            "Enter a square number:25\n",
            "The square root is: 5\n",
            "Do you want to continue:(yes/no)no\n",
            "Thanks for using!!\n"
          ]
        }
      ]
    },
    {
      "cell_type": "markdown",
      "source": [
        "#flooring or ceiling"
      ],
      "metadata": {
        "id": "j7m_YP0sDu4J"
      }
    },
    {
      "cell_type": "code",
      "source": [
        "import math\n",
        "#.floor() rounds of decimal in lower value\n",
        "floor=math.floor(4.8)\n",
        "print(floor)\n",
        "#.ceil() rounds of decimal in upper value\n",
        "ceil=math.ceil(4.8)\n",
        "print(ceil)"
      ],
      "metadata": {
        "colab": {
          "base_uri": "https://localhost:8080/"
        },
        "id": "yI_glt5JDByv",
        "outputId": "95117859-c2fb-419b-e2fb-0d1a7bb4583c"
      },
      "execution_count": null,
      "outputs": [
        {
          "output_type": "stream",
          "name": "stdout",
          "text": [
            "4\n",
            "5\n"
          ]
        }
      ]
    },
    {
      "cell_type": "markdown",
      "source": [
        "#Module Aliasing"
      ],
      "metadata": {
        "id": "U0xEqx5wEN9Y"
      }
    },
    {
      "cell_type": "code",
      "source": [
        "#import matplotlib.pyplot as plt\n"
      ],
      "metadata": {
        "id": "rDoHFhnOD5Dr"
      },
      "execution_count": null,
      "outputs": []
    },
    {
      "cell_type": "markdown",
      "source": [
        "#Variable aliasing"
      ],
      "metadata": {
        "id": "0T5RX64ZEa__"
      }
    },
    {
      "cell_type": "code",
      "source": [
        "a=[1,2,3]\n",
        "b=a\n",
        "b.append(4)\n",
        "print(b)\n",
        "print(a)"
      ],
      "metadata": {
        "colab": {
          "base_uri": "https://localhost:8080/"
        },
        "id": "ORWJoZk7EaeG",
        "outputId": "6fe6351c-5ac6-4460-ba70-5fa9230438e1"
      },
      "execution_count": null,
      "outputs": [
        {
          "output_type": "stream",
          "name": "stdout",
          "text": [
            "[1, 2, 3, 4]\n",
            "[1, 2, 3, 4]\n"
          ]
        }
      ]
    },
    {
      "cell_type": "markdown",
      "source": [
        "#Homework:Function or Method aliasing"
      ],
      "metadata": {
        "id": "zKRR1go5FBwu"
      }
    },
    {
      "cell_type": "code",
      "source": [
        "p=print\n",
        "a=\"hello world\"\n",
        "p(a)\n"
      ],
      "metadata": {
        "id": "ZFQjYlgsEtIw",
        "colab": {
          "base_uri": "https://localhost:8080/"
        },
        "outputId": "6d19fe62-cc00-4e81-9e9a-404d798567fe"
      },
      "execution_count": null,
      "outputs": [
        {
          "output_type": "stream",
          "name": "stdout",
          "text": [
            "hello world\n"
          ]
        }
      ]
    },
    {
      "cell_type": "markdown",
      "source": [
        "#Random modules in python"
      ],
      "metadata": {
        "id": "_uCYn7uGFI5e"
      }
    },
    {
      "cell_type": "code",
      "source": [
        "import random as rdn\n",
        "#printing random integer value\n",
        "print(rdn.randint(1,10))\n",
        "#printing random float value without range\n",
        "random_float=rdn.random()\n",
        "print(random_float)\n",
        "#printing random float with range\n",
        "random_float_in_range=rdn.uniform(1,10)\n",
        "print(\"With more points\",random_float_in_range)\n",
        "new=(\"%.2f\" % random_float_in_range)\n",
        "print(\"With few points\",new)\n",
        "#Homework: Explore more modules or functions/methods"
      ],
      "metadata": {
        "colab": {
          "base_uri": "https://localhost:8080/"
        },
        "id": "tH30Z7hCFIMp",
        "outputId": "cb4b60e1-2b2f-4fca-da1d-c04c93f80d53"
      },
      "execution_count": null,
      "outputs": [
        {
          "output_type": "stream",
          "name": "stdout",
          "text": [
            "3\n",
            "0.20936235136496062\n",
            "With more points 5.435613102349632\n",
            "With few points 5.44\n"
          ]
        }
      ]
    },
    {
      "cell_type": "markdown",
      "source": [
        "#Creating custom modules in python"
      ],
      "metadata": {
        "id": "nSU-3Wi4GyTe"
      }
    },
    {
      "cell_type": "code",
      "source": [
        "#helper1234.py\n",
        "%%writefile helper1234.py\n",
        "def addnum(a,b):\n",
        "  return a+b\n",
        "def subnum(a,b):\n",
        "  return a-b\n"
      ],
      "metadata": {
        "colab": {
          "base_uri": "https://localhost:8080/"
        },
        "id": "zdkpxskbFhQ2",
        "outputId": "385db649-e759-4c26-e03c-316b4f013de0"
      },
      "execution_count": null,
      "outputs": [
        {
          "output_type": "stream",
          "name": "stdout",
          "text": [
            "Writing helper1234.py\n"
          ]
        }
      ]
    },
    {
      "cell_type": "code",
      "source": [
        "#main.py\n",
        "import helper1234\n",
        "result=helper1234.addnum(24,15)\n",
        "print(result)\n",
        "sub=helper1234.subnum(24,15)\n",
        "print(sub)"
      ],
      "metadata": {
        "colab": {
          "base_uri": "https://localhost:8080/"
        },
        "id": "mWHzEywgHKJf",
        "outputId": "5c130415-b892-48ee-ab0e-e189c82306ab"
      },
      "execution_count": null,
      "outputs": [
        {
          "output_type": "stream",
          "name": "stdout",
          "text": [
            "39\n",
            "9\n"
          ]
        }
      ]
    },
    {
      "cell_type": "code",
      "source": [],
      "metadata": {
        "id": "M55899fGHTd5"
      },
      "execution_count": null,
      "outputs": []
    }
  ]
}