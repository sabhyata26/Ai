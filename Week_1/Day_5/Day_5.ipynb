{
  "nbformat": 4,
  "nbformat_minor": 0,
  "metadata": {
    "colab": {
      "provenance": []
    },
    "kernelspec": {
      "name": "python3",
      "display_name": "Python 3"
    },
    "language_info": {
      "name": "python"
    }
  },
  "cells": [
    {
      "cell_type": "markdown",
      "source": [
        "# NUMPY BASICS"
      ],
      "metadata": {
        "id": "kiTiQ9Tj4OGt"
      }
    },
    {
      "cell_type": "markdown",
      "source": [
        "## CREATING A NUMPY ARRAY AND ITS ATTRIBUTES"
      ],
      "metadata": {
        "id": "6Ro1RpsX4Q5B"
      }
    },
    {
      "cell_type": "code",
      "execution_count": null,
      "metadata": {
        "colab": {
          "base_uri": "https://localhost:8080/"
        },
        "id": "l9jhQZhl2ISh",
        "outputId": "4f430835-251c-4b1b-cd9b-9feb309c75c6"
      },
      "outputs": [
        {
          "output_type": "stream",
          "name": "stdout",
          "text": [
            "[1 2 3 4 5]\n",
            "42\n",
            "[1 2 3 4 5]\n",
            "[[1 2 3]\n",
            " [4 5 6]]\n",
            "[[[ 1  2  3]\n",
            "  [ 4  5  6]]\n",
            "\n",
            " [[ 7  8  9]\n",
            "  [10 11 12]]]\n"
          ]
        }
      ],
      "source": [
        "#importing numpy library\n",
        "import numpy as np\n",
        "#creating a list\n",
        "my_list = [1,2,3,4,5]\n",
        "\n",
        "#changing the list into a 1-D numpy array\n",
        "my_array = np.array(my_list)\n",
        "#printing the 1-D numpy array\n",
        "print(my_array)\n",
        "\n",
        "#creating a 0-D numpy array\n",
        "zero_array = np.array(42)\n",
        "#printing the 0-D numpy array\n",
        "print(zero_array)\n",
        "\n",
        "#Instead of creating a list on a separate variable we can directly pass that list to .array()function like this:\n",
        "my_array = np.array([1,2,3,4,5])\n",
        "#printing the 1-D numpy array\n",
        "print(my_array)\n",
        "\n",
        "#lets create a 2-D array!\n",
        "two_d_array = np.array([[1,2,3],[4,5,6]])\n",
        "#printing the 2-D numpy array\n",
        "print(two_d_array)\n",
        "\n",
        "#lets create a 3-D array now!\n",
        "three_d_array = np.array([[[1,2,3],[4,5,6]],[[7,8,9],[10,11,12]]])\n",
        "#printing the 3-D numpy array\n",
        "print(three_d_array)"
      ]
    },
    {
      "cell_type": "code",
      "source": [
        "# Lets create an array and see its attributes!\n",
        "my_array = np.array([[1,2,3],[4,5,6]])\n",
        "print(my_array)     #Printing the array\n",
        "print(my_array.ndim)    #Printing the dimension of the array\n",
        "print(my_array.shape)   #Printing the shape of the array\n",
        "print(my_array.dtype)   #Printing the type of the array\n",
        "print(my_array.size)    #Printing the size of the array"
      ],
      "metadata": {
        "colab": {
          "base_uri": "https://localhost:8080/"
        },
        "id": "kv3slWmb7H0W",
        "outputId": "7925dc9f-7052-43b6-90d5-7446e63c2ca2"
      },
      "execution_count": null,
      "outputs": [
        {
          "output_type": "stream",
          "name": "stdout",
          "text": [
            "[[1 2 3]\n",
            " [4 5 6]]\n",
            "2\n",
            "(2, 3)\n",
            "int64\n",
            "6\n"
          ]
        }
      ]
    },
    {
      "cell_type": "markdown",
      "source": [
        "## ACCESING AND MANIPULATING ARRAY ELEMENTS"
      ],
      "metadata": {
        "id": "kErXigI289vo"
      }
    },
    {
      "cell_type": "code",
      "source": [
        "#Lets create a 1-D array and print one of its elements\n",
        "one_arr = np.array([1,2,3,4,5,6])\n",
        "print(one_arr[4])\n",
        "\n",
        "#Lets print using negative indexing\n",
        "print(one_arr[-3])"
      ],
      "metadata": {
        "colab": {
          "base_uri": "https://localhost:8080/"
        },
        "id": "hUrfi8MQ7hMw",
        "outputId": "2f4f01ec-3229-4c8a-bd36-cd863a47da2b"
      },
      "execution_count": null,
      "outputs": [
        {
          "output_type": "stream",
          "name": "stdout",
          "text": [
            "5\n",
            "4\n"
          ]
        }
      ]
    },
    {
      "cell_type": "code",
      "source": [
        "#Lets do for a 2-D array\n",
        "two_arr = np.array([[1,2,3],[4,5,6]])\n",
        "print(two_arr[1,2])"
      ],
      "metadata": {
        "colab": {
          "base_uri": "https://localhost:8080/"
        },
        "id": "P2OdriUN9M5V",
        "outputId": "5f484f20-2752-470e-89f4-2a5bb1569460"
      },
      "execution_count": null,
      "outputs": [
        {
          "output_type": "stream",
          "name": "stdout",
          "text": [
            "6\n"
          ]
        }
      ]
    },
    {
      "cell_type": "code",
      "source": [
        "#Lets move to a 3-D array\n",
        "three_arr = np.array([[[1,2,3],[4,5,6]],[[7,8,9],[10,11,12]]])\n",
        "print(three_arr[1,1,2])"
      ],
      "metadata": {
        "colab": {
          "base_uri": "https://localhost:8080/"
        },
        "id": "myigW3Ki9xR-",
        "outputId": "13a59d6b-040a-401e-f0b8-035bd98032f0"
      },
      "execution_count": null,
      "outputs": [
        {
          "output_type": "stream",
          "name": "stdout",
          "text": [
            "12\n"
          ]
        }
      ]
    },
    {
      "cell_type": "markdown",
      "source": [
        "## SLICING ARRAYS"
      ],
      "metadata": {
        "id": "qyEEmSHQAw8I"
      }
    },
    {
      "cell_type": "markdown",
      "source": [
        "### Some Important Slicing Concepts\n",
        "array[start:end]\n",
        "\n",
        "araay[start:end:steps]"
      ],
      "metadata": {
        "id": "R8PLyBU4Bcm0"
      }
    },
    {
      "cell_type": "code",
      "source": [
        "#Slicing array from 0th index to 8th index\n",
        "my_array = np.array([1,2,3,4,5,6,7,8,9,10])\n",
        "print(my_array[0:8])"
      ],
      "metadata": {
        "colab": {
          "base_uri": "https://localhost:8080/"
        },
        "id": "WR23qKhB-Y5X",
        "outputId": "58c7b9ed-ddc2-4acc-a7f5-f43a5f581e1d"
      },
      "execution_count": null,
      "outputs": [
        {
          "output_type": "stream",
          "name": "stdout",
          "text": [
            "[1 2 3 4 5 6 7 8]\n"
          ]
        }
      ]
    },
    {
      "cell_type": "code",
      "source": [
        "#Slicing with steps\n",
        "my_new_array = np.array([1,2,3,4,5,6,7,8,9,10])\n",
        "print(my_new_array[0:9:2])"
      ],
      "metadata": {
        "colab": {
          "base_uri": "https://localhost:8080/"
        },
        "id": "fcFKmhDNCA-_",
        "outputId": "3b0226fd-bfc2-47b8-c7cf-6332a80e095a"
      },
      "execution_count": null,
      "outputs": [
        {
          "output_type": "stream",
          "name": "stdout",
          "text": [
            "[1 3 5 7 9]\n"
          ]
        }
      ]
    },
    {
      "cell_type": "code",
      "source": [
        "#SLICING on a 2-D array\n",
        "my_two_d = np.array([[1,2,3,4,5,6,7,8,9],[10,11,12,13,14,15,16,17,18]])\n",
        "print(my_two_d[1,0:6])"
      ],
      "metadata": {
        "colab": {
          "base_uri": "https://localhost:8080/"
        },
        "id": "uxPt42nnCjut",
        "outputId": "603d3cc5-ef8e-4523-b26b-fa85d4e0886d"
      },
      "execution_count": null,
      "outputs": [
        {
          "output_type": "stream",
          "name": "stdout",
          "text": [
            "[10 11 12 13 14 15]\n"
          ]
        }
      ]
    },
    {
      "cell_type": "code",
      "source": [
        "#HOMEWORK: Experiment with slicing on a 3-D Array\n",
        "#CLASSWORK1: Check your whatsapp group\n",
        "#CLASSWORK2: Check Numpy documentation to learn more about Numpy and W3 School for content regarding Numpy!"
      ],
      "metadata": {
        "id": "uSlrqsN1D_aG"
      },
      "execution_count": null,
      "outputs": []
    },
    {
      "cell_type": "code",
      "source": [
        "np.ones((3,3))"
      ],
      "metadata": {
        "id": "6cTMKjzwE-iv",
        "outputId": "fc7c49d9-c9a9-4682-f311-369b86b00bf2",
        "colab": {
          "base_uri": "https://localhost:8080/"
        }
      },
      "execution_count": null,
      "outputs": [
        {
          "output_type": "execute_result",
          "data": {
            "text/plain": [
              "array([[1., 1., 1.],\n",
              "       [1., 1., 1.],\n",
              "       [1., 1., 1.]])"
            ]
          },
          "metadata": {},
          "execution_count": 15
        }
      ]
    },
    {
      "cell_type": "code",
      "source": [
        "np.zeros((3,3))"
      ],
      "metadata": {
        "id": "ZytOO5XeE_HV",
        "outputId": "8d129b63-f7f1-4b16-94fe-2628a4fd05c8",
        "colab": {
          "base_uri": "https://localhost:8080/"
        }
      },
      "execution_count": null,
      "outputs": [
        {
          "output_type": "execute_result",
          "data": {
            "text/plain": [
              "array([[0., 0., 0.],\n",
              "       [0., 0., 0.],\n",
              "       [0., 0., 0.]])"
            ]
          },
          "metadata": {},
          "execution_count": 16
        }
      ]
    },
    {
      "cell_type": "code",
      "source": [],
      "metadata": {
        "id": "hfC3JY-5FBGD"
      },
      "execution_count": null,
      "outputs": []
    }
  ]
}