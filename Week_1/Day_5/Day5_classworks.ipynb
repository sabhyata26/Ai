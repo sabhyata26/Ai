{
  "nbformat": 4,
  "nbformat_minor": 0,
  "metadata": {
    "colab": {
      "provenance": []
    },
    "kernelspec": {
      "name": "python3",
      "display_name": "Python 3"
    },
    "language_info": {
      "name": "python"
    }
  },
  "cells": [
    {
      "cell_type": "markdown",
      "source": [
        "**[NUMPY BASICS\n",
        "\n",
        "CREATING A NUMPY ARRAY & ITA ATTRIBUTES"
      ],
      "metadata": {
        "id": "xXA-vnym4UyZ"
      }
    },
    {
      "cell_type": "code",
      "execution_count": null,
      "metadata": {
        "id": "J_Z5qJezy2BA",
        "colab": {
          "base_uri": "https://localhost:8080/"
        },
        "outputId": "5ceb1521-bf70-4af7-c474-5b4b7b655a11"
      },
      "outputs": [
        {
          "output_type": "stream",
          "name": "stdout",
          "text": [
            "[1 2 3 4 5]\n",
            "42\n",
            "[1 2 3 4 5]\n",
            "[[1 2 3]\n",
            " [4 5 6]]\n",
            "[[[ 1  2  3]\n",
            "  [ 4  5  6]\n",
            "  [ 7  8  9]\n",
            "  [10 11 12]]]\n"
          ]
        }
      ],
      "source": [
        "#importing numpy library\n",
        "import numpy as np\n",
        "my_list=[1,2,3,4,5]  #creating a list\n",
        " #changung the list into a numpy array\n",
        "my_array=np.array(my_list)\n",
        " #printing the array\n",
        "print(my_array)\n",
        "\n",
        "\n",
        " #creating a 0-D numpy array\n",
        "zero_array=np.array(42)\n",
        "\n",
        " #printing the )_D numpy array\n",
        "print(zero_array)\n",
        "\n",
        " #intested of creating a list on a seperated variable we csn directly pass the list to.array() function like this.\n",
        "my_array=np.array([1,2,3,4,5])\n",
        " #printing the 1-D\n",
        "print(my_array)\n",
        "\n",
        "\n",
        " #lets create a 2-D array\n",
        "two_d_array=np.array([[1,2,3],[4,5,6]])\n",
        " #printing the 2-D np.array\n",
        "print(two_d_array)\n",
        "\n",
        " #lets create a 3-D array\n",
        "three_d_array=np.array([[[1,2,3],[4,5,6],[7,8,9],[10,11,12]]])\n",
        " #printing 3d array\n",
        "print(three_d_array)\n"
      ]
    },
    {
      "cell_type": "markdown",
      "source": [
        "**an array and see its atributes**"
      ],
      "metadata": {
        "id": "By19mJxc83C8"
      }
    },
    {
      "cell_type": "code",
      "source": [
        "#lets create an array and see its atributes\n",
        "my_array=np.array([[1,2,3],[4,5,6]])\n",
        "print(my_array) #printing the array\n",
        "print(my_array.ndim) #printing the dimension of the array\n",
        "print(my_array.shape) #printing the shape of the array\n",
        "print(my_array.dtype) #printing the type of the array\n",
        "print(my_array.size) #printing the size of the array"
      ],
      "metadata": {
        "colab": {
          "base_uri": "https://localhost:8080/"
        },
        "id": "CZ-amhpu8wWz",
        "outputId": "128ad51e-a5f6-4f64-c3b9-32604099278f"
      },
      "execution_count": null,
      "outputs": [
        {
          "output_type": "stream",
          "name": "stdout",
          "text": [
            "[[1 2 3]\n",
            " [4 5 6]]\n",
            "2\n",
            "(2, 3)\n",
            "int64\n",
            "6\n"
          ]
        }
      ]
    },
    {
      "cell_type": "markdown",
      "source": [
        "#**accesing and manupulation array elements**"
      ],
      "metadata": {
        "id": "SE8Ree_d8640"
      }
    },
    {
      "cell_type": "code",
      "source": [
        "#lets create a 1-D array annd print one of its elements\n",
        "one_arr=np.array([1,2,3,4,5,6])\n",
        "print(one_arr[4])\n",
        "\n",
        "      #lets print using negetive index\n",
        "print(one_arr[-3])\n"
      ],
      "metadata": {
        "colab": {
          "base_uri": "https://localhost:8080/"
        },
        "id": "bHaH_Ofw9DWm",
        "outputId": "ccaffb94-a334-4515-a0fd-9b8be464ec6e"
      },
      "execution_count": null,
      "outputs": [
        {
          "output_type": "stream",
          "name": "stdout",
          "text": [
            "5\n",
            "4\n"
          ]
        }
      ]
    },
    {
      "cell_type": "markdown",
      "source": [
        "#lets do for 2D aray\n"
      ],
      "metadata": {
        "id": "KqptI0wy9rlo"
      }
    },
    {
      "cell_type": "code",
      "source": [
        "#lets do for 2D aray\n",
        "two_arr=np.array([[1,2,3],[4,5,6]])\n",
        "print(two_arr[1,2])\n",
        "print(two_arr[0,-1])"
      ],
      "metadata": {
        "colab": {
          "base_uri": "https://localhost:8080/"
        },
        "id": "lQ93Eh-l9yN1",
        "outputId": "d41f854f-6c5d-4b96-9d57-dfcfd77b86f7"
      },
      "execution_count": null,
      "outputs": [
        {
          "output_type": "stream",
          "name": "stdout",
          "text": [
            "6\n",
            "3\n"
          ]
        }
      ]
    },
    {
      "cell_type": "code",
      "source": [
        "##lets do for 3-D aray\n",
        "three_arr=np.array([[[1,2,3],[4,5,6]],[[7,8,9],[10,11,12]]])\n",
        "print(three_arr[1,1,2])\n",
        "\n",
        "print(three_arr[1,0,0])#bracket"
      ],
      "metadata": {
        "colab": {
          "base_uri": "https://localhost:8080/"
        },
        "id": "7xscsbBu-XS3",
        "outputId": "5608be48-1b56-42f5-d3ee-d4d0bec9921b"
      },
      "execution_count": null,
      "outputs": [
        {
          "output_type": "stream",
          "name": "stdout",
          "text": [
            "12\n",
            "7\n"
          ]
        }
      ]
    },
    {
      "cell_type": "code",
      "source": [
        "#lets do for 3-D negetive aray\n",
        "three_arr=np.array([[[1,2,3],[4,5,6]],[[7,8,9],[10,11,12]]])\n",
        "print(three_arr[-1,-1,-2])"
      ],
      "metadata": {
        "colab": {
          "base_uri": "https://localhost:8080/"
        },
        "id": "urmCaoT4A3Qn",
        "outputId": "8a19308f-3167-4314-e5b8-c35de38d803a"
      },
      "execution_count": null,
      "outputs": [
        {
          "output_type": "stream",
          "name": "stdout",
          "text": [
            "11\n"
          ]
        }
      ]
    },
    {
      "cell_type": "markdown",
      "source": [
        "**SLICING**"
      ],
      "metadata": {
        "id": "rsIXNAxEBcAY"
      }
    },
    {
      "cell_type": "code",
      "source": [
        "#some important slicing concepts\n",
        "array[start:end]\n",
        "array[stat:end:steps]\n",
        "\n"
      ],
      "metadata": {
        "id": "hj7d2yrZBeaO"
      },
      "execution_count": null,
      "outputs": []
    },
    {
      "cell_type": "code",
      "source": [
        "from google.colab import drive\n",
        "drive.mount('/content/drive')"
      ],
      "metadata": {
        "id": "oCVi_E0YUpP-"
      },
      "execution_count": null,
      "outputs": []
    },
    {
      "cell_type": "code",
      "source": [
        "#slicing array from 0th index to 8th index\n",
        "my_array=np.array([1,2,3,4,5,6,7,8,9,10])\n",
        "print(my_array[0:8])\n",
        "print(my_array[0:6])"
      ],
      "metadata": {
        "colab": {
          "base_uri": "https://localhost:8080/"
        },
        "id": "kWLIMSJHB7-l",
        "outputId": "f336a9e0-0a1e-470c-f7fd-efffee09f02b"
      },
      "execution_count": null,
      "outputs": [
        {
          "output_type": "stream",
          "name": "stdout",
          "text": [
            "[1 2 3 4 5 6 7 8]\n",
            "[1 2 3 4 5 6]\n"
          ]
        }
      ]
    },
    {
      "cell_type": "code",
      "source": [
        "#slicing with the steps\n",
        "my_new_array=np.array([1,2,3,4,5,6,7,8,9,10])\n",
        "print(my_new_array[0:9:2])  #2=steps ,\n",
        "print(my_new_array[0:9:3])  #3 steps counting"
      ],
      "metadata": {
        "colab": {
          "base_uri": "https://localhost:8080/"
        },
        "id": "VLao4PFFCv2o",
        "outputId": "ab700db5-d3ab-4de1-da25-9665cdc763cb"
      },
      "execution_count": null,
      "outputs": [
        {
          "output_type": "stream",
          "name": "stdout",
          "text": [
            "[1 3 5 7 9]\n",
            "[1 4 7]\n"
          ]
        }
      ]
    },
    {
      "cell_type": "code",
      "source": [
        "#slicing on a 2-D array\n",
        "my_two_d =np.array([[1,2,3,4,5,6,7,8,9],[10,11,12,13,14,15,16,17,18]])\n",
        "print(my_two_d[1,0:6])\n",
        "\n",
        "print(my_two_d[0,2:6])"
      ],
      "metadata": {
        "colab": {
          "base_uri": "https://localhost:8080/"
        },
        "id": "LmoJoZ-fDx8y",
        "outputId": "342286db-e370-4de6-9479-3ff6d2c49312"
      },
      "execution_count": null,
      "outputs": [
        {
          "output_type": "stream",
          "name": "stdout",
          "text": [
            "[10 11 12 13 14 15]\n",
            "[3 4 5 6]\n"
          ]
        }
      ]
    },
    {
      "cell_type": "markdown",
      "source": [
        "NUMPY ARRAY"
      ],
      "metadata": {
        "id": "Hpw40IjtFntD"
      }
    },
    {
      "cell_type": "code",
      "source": [
        "#create a numpy array from the list [7,14,21,28] .print the array.\n",
        "\n",
        "array=[7,14,21,28]\n",
        "print(array)"
      ],
      "metadata": {
        "colab": {
          "base_uri": "https://localhost:8080/"
        },
        "id": "kIy_8W0tFpTR",
        "outputId": "03a22670-d0c7-49e6-98c6-68a435ba69dc"
      },
      "execution_count": null,
      "outputs": [
        {
          "output_type": "stream",
          "name": "stdout",
          "text": [
            "[7, 14, 21, 28]\n"
          ]
        }
      ]
    },
    {
      "cell_type": "code",
      "source": [
        "my_two_d\n",
        "my_two_d=np.array([[5,10,15],[20,25,30]])  #print the shape and number of dimension\n",
        "print(my_two_d.shape)\n",
        "print(my_two_d.ndim)\n",
        "\n"
      ],
      "metadata": {
        "colab": {
          "base_uri": "https://localhost:8080/"
        },
        "id": "GRF-39bmGMJ9",
        "outputId": "3e1f90ce-a553-4906-f3d5-7fa8de11312f"
      },
      "execution_count": null,
      "outputs": [
        {
          "output_type": "stream",
          "name": "stdout",
          "text": [
            "(2, 3)\n",
            "2\n"
          ]
        }
      ]
    },
    {
      "cell_type": "code",
      "source": [
        "b=np.zeros((2,3))\n",
        "print(b)\n",
        "a=np.arange(0,12,3) #using np.arrage to create an aray\n",
        "print(a)"
      ],
      "metadata": {
        "colab": {
          "base_uri": "https://localhost:8080/"
        },
        "id": "xalRE0LyIzL0",
        "outputId": "d2291b7f-ce40-4af1-aafb-9ac84bc32583"
      },
      "execution_count": null,
      "outputs": [
        {
          "output_type": "stream",
          "name": "stdout",
          "text": [
            "[[0. 0. 0.]\n",
            " [0. 0. 0.]]\n",
            "[0 3 6 9]\n"
          ]
        }
      ]
    },
    {
      "cell_type": "code",
      "source": [
        "numpy_array=[2,4,6,8] #multiply by all element\n",
        "print(numpy_array*3)\n",
        "\n"
      ],
      "metadata": {
        "colab": {
          "base_uri": "https://localhost:8080/"
        },
        "id": "QvWLmKwYJ2ak",
        "outputId": "770285db-c6b2-43a2-e562-40a9e0fb7ef9"
      },
      "execution_count": null,
      "outputs": [
        {
          "output_type": "stream",
          "name": "stdout",
          "text": [
            "[2, 4, 6, 8, 2, 4, 6, 8, 2, 4, 6, 8]\n"
          ]
        }
      ]
    },
    {
      "cell_type": "markdown",
      "source": [],
      "metadata": {
        "id": "I2rYS8B3H9PC"
      }
    },
    {
      "cell_type": "code",
      "source": [
        "np_arr=[1,3,5,7,9,11]\n",
        "print(np_arr[2])\n",
        "print(np_arr[1:3])  #print the thirdd elements and slicing from index 1:3"
      ],
      "metadata": {
        "colab": {
          "base_uri": "https://localhost:8080/"
        },
        "id": "RWIYWSVeKStl",
        "outputId": "79bcee74-2b9e-4e82-d280-67a7686dc19e"
      },
      "execution_count": null,
      "outputs": [
        {
          "output_type": "stream",
          "name": "stdout",
          "text": [
            "5\n",
            "[3, 5]\n"
          ]
        }
      ]
    },
    {
      "cell_type": "code",
      "source": [
        "two_d_array=np.random.randint(0,10,size=(3,3)) #primt the modify array\n",
        "print(two_d_array)"
      ],
      "metadata": {
        "colab": {
          "base_uri": "https://localhost:8080/"
        },
        "id": "6XUc7wkCLGjs",
        "outputId": "1984af7d-4017-446b-b330-44d71fc16380"
      },
      "execution_count": null,
      "outputs": [
        {
          "output_type": "stream",
          "name": "stdout",
          "text": [
            "[[7 8 5]\n",
            " [8 8 2]\n",
            " [1 0 5]]\n"
          ]
        }
      ]
    },
    {
      "cell_type": "code",
      "source": [
        "import numpy as np\n",
        "a=np.array([2,4,6,8])\n",
        "b=np.array([1,3,5,7])\n",
        "print(a+b)\n",
        "print(a*b)"
      ],
      "metadata": {
        "colab": {
          "base_uri": "https://localhost:8080/"
        },
        "id": "dFNcZSOxNEgV",
        "outputId": "43862edf-3f44-4ce0-cb45-ecc4ccc61023"
      },
      "execution_count": null,
      "outputs": [
        {
          "output_type": "stream",
          "name": "stdout",
          "text": [
            "[ 3  7 11 15]\n",
            "[ 2 12 30 56]\n"
          ]
        }
      ]
    },
    {
      "cell_type": "code",
      "source": [
        "arr=np.ones((4,3))\n",
        "print(arr)\n",
        "r=arr.reshape(3,4)\n",
        "print(r)"
      ],
      "metadata": {
        "colab": {
          "base_uri": "https://localhost:8080/"
        },
        "id": "IHHgVlPPNpB7",
        "outputId": "e4ce2495-b305-4baf-dacf-b928a31a9ca6"
      },
      "execution_count": null,
      "outputs": [
        {
          "output_type": "stream",
          "name": "stdout",
          "text": [
            "[[1. 1. 1.]\n",
            " [1. 1. 1.]\n",
            " [1. 1. 1.]\n",
            " [1. 1. 1.]]\n",
            "[[1. 1. 1. 1.]\n",
            " [1. 1. 1. 1.]\n",
            " [1. 1. 1. 1.]]\n"
          ]
        }
      ]
    },
    {
      "cell_type": "code",
      "source": [
        "array=np.array([[1,2,3],[4,5,6],[7,8,9]]) #2d numpy array\n",
        "a=array[1,0:]   #mean\n",
        "mean=np.mean(a)  #np.mean\n",
        "print(mean)\n",
        "print(a)\n"
      ],
      "metadata": {
        "colab": {
          "base_uri": "https://localhost:8080/"
        },
        "id": "_TpVFY3kNwn0",
        "outputId": "d5ca7d60-fe0f-4b47-b2f3-05333b6c6413"
      },
      "execution_count": null,
      "outputs": [
        {
          "output_type": "stream",
          "name": "stdout",
          "text": [
            "5.0\n",
            "[4 5 6]\n"
          ]
        }
      ]
    },
    {
      "cell_type": "code",
      "source": [
        "array=np.array([10,20,40,40,50,60])   #1D numpy array\n",
        "a=array>30  #using boolen mask to selected elements greater than 30\n",
        "print(a)  #print orginal array & modify array\n",
        "print(array)\n",
        "\n"
      ],
      "metadata": {
        "colab": {
          "base_uri": "https://localhost:8080/"
        },
        "id": "lZRzP3yrQmez",
        "outputId": "7ac11f08-81e4-4fd7-b56d-959f7f8864ab"
      },
      "execution_count": null,
      "outputs": [
        {
          "output_type": "stream",
          "name": "stdout",
          "text": [
            "[False False  True  True  True  True]\n",
            "[10 20 40 40 50 60]\n"
          ]
        }
      ]
    }
  ]
}