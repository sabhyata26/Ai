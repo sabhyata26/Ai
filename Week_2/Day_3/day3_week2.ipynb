{
  "nbformat": 4,
  "nbformat_minor": 0,
  "metadata": {
    "colab": {
      "provenance": []
    },
    "kernelspec": {
      "name": "python3",
      "display_name": "Python 3"
    },
    "language_info": {
      "name": "python"
    }
  },
  "cells": [
    {
      "cell_type": "markdown",
      "source": [
        "# Hands-On Practice: Probability Basics for AI"
      ],
      "metadata": {
        "id": "Nm_7B4Ex9H_q"
      }
    },
    {
      "cell_type": "markdown",
      "source": [
        "## EXERCISE1: THEORETICAL PROBABILITY"
      ],
      "metadata": {
        "id": "jGn0JatA9OLv"
      }
    },
    {
      "cell_type": "code",
      "execution_count": null,
      "metadata": {
        "colab": {
          "base_uri": "https://localhost:8080/"
        },
        "id": "ZEEY81D56fGg",
        "outputId": "900894a6-2bed-4ecb-b4fd-6e6bf5b2c182"
      },
      "outputs": [
        {
          "output_type": "stream",
          "name": "stdout",
          "text": [
            "0.16666666666666666\n"
          ]
        }
      ],
      "source": [
        "# Declaring fav and total outcome for rolling 1 on a die!\n",
        "favourable_outcome = 1\n",
        "total_outcome = 6\n",
        "\n",
        "probability = favourable_outcome/total_outcome\n",
        "print(probability)\n",
        "\n",
        "# Task 1: Calculate the theoretical probability of drawing a red card from a\n",
        "# standard deck of 52 cards (26 red cards). Print the result."
      ]
    },
    {
      "cell_type": "markdown",
      "source": [
        "## EXPERIMENTAL PROBABILITY"
      ],
      "metadata": {
        "id": "CoFB4BvoJ80o"
      }
    },
    {
      "cell_type": "code",
      "source": [
        "import random\n",
        "\n",
        "trials = 100\n",
        "heads =  0\n",
        "\n",
        "for _ in range(trials):\n",
        "  if random.choice([\"Heads\", \"Tails\"]) == \"Heads\":\n",
        "    heads+= 1\n",
        "probability = heads/trials\n",
        "print(probability)"
      ],
      "metadata": {
        "colab": {
          "base_uri": "https://localhost:8080/"
        },
        "id": "aEq5jysiJy4i",
        "outputId": "17c757ed-09e7-43e7-eddc-67a44e30ab6f"
      },
      "execution_count": null,
      "outputs": [
        {
          "output_type": "stream",
          "name": "stdout",
          "text": [
            "0.49\n"
          ]
        }
      ]
    },
    {
      "cell_type": "markdown",
      "source": [
        "## EXERCISE: 3 CONDITIONAL PROBABILITY"
      ],
      "metadata": {
        "id": "ofanp9-INW8o"
      }
    },
    {
      "cell_type": "code",
      "source": [
        "face_cards = 12\n",
        "king = 4\n",
        "cond_prob = king / face_cards\n",
        "print(\"Probability of getting a king given it is a face card is\",cond_prob)"
      ],
      "metadata": {
        "id": "PpaVLtbiMJir"
      },
      "execution_count": null,
      "outputs": []
    },
    {
      "cell_type": "code",
      "source": [
        "#IN-CLASS TASK\n",
        "# A standard deck has 52 cards. There are 12 face cards (Jack, Queen, King – 4 of each).\n",
        "# What is the probability that a card is a King given that it’s a face card?\n",
        "\n",
        "# Out of 100 days, it rained on 30 days.\n",
        "# On 25 of those rainy days, a person carried an umbrella.\n",
        "# What is the probability that they carried an umbrella given that it was raining?\n",
        "\n",
        "# Out of 80 students, 50 studied for the exam.\n",
        "# Out of those 50, 45 passed.\n",
        "# What is the probability a student passed given that they studied?"
      ],
      "metadata": {
        "id": "LlC85ODzOTzo"
      },
      "execution_count": null,
      "outputs": []
    },
    {
      "cell_type": "markdown",
      "source": [
        "## Exercise 4: Addition Rule"
      ],
      "metadata": {
        "id": "7A2tGDPHRMoK"
      }
    },
    {
      "cell_type": "code",
      "source": [
        "#Mutually exclusive events\n",
        "\n",
        "prob_even = 3 / 6\n",
        "prob_one = 1 / 6\n",
        "\n",
        "prob_even_or_one = prob_even + prob_one\n",
        "print(prob_even_or_one)\n",
        "\n",
        "# Task 4: Calculate the probability of drawing a heart or a club from a deck (13\n",
        "# hearts, 13 clubs, mutually exclusive). Print the result."
      ],
      "metadata": {
        "colab": {
          "base_uri": "https://localhost:8080/"
        },
        "id": "bbC5Oq4CROwe",
        "outputId": "25524fc3-d0e2-4ab2-c4d4-f21cac40da64"
      },
      "execution_count": null,
      "outputs": [
        {
          "output_type": "stream",
          "name": "stdout",
          "text": [
            "0.6666666666666666\n"
          ]
        }
      ]
    },
    {
      "cell_type": "markdown",
      "source": [
        "## Exercise 5: Multiplication Rule (Independent Events)"
      ],
      "metadata": {
        "id": "qDmANZCLSWBB"
      }
    },
    {
      "cell_type": "code",
      "source": [
        "# Note!!!! For independent events, the probability of both occurring is the product of their probabilities.\n",
        "\n",
        "prob_head = 0.5\n",
        "prob_two_heads = prob_head * prob_head\n",
        "print(prob_two_heads)\n",
        "\n",
        "# Task 5: Calculate the probability of rolling a 6 twice in a row with a six-sided\n",
        "# die. Print the result.\n",
        "# Question: What is the probability of getting head on a coin toss and 7 on a 6-sided die roll?"
      ],
      "metadata": {
        "id": "2iOkS_VFSG6S"
      },
      "execution_count": null,
      "outputs": []
    },
    {
      "cell_type": "markdown",
      "source": [
        "## Exercise 6: Dependent Events"
      ],
      "metadata": {
        "id": "MAAYEoW0VdjT"
      }
    },
    {
      "cell_type": "code",
      "source": [
        "#Lets calculate the probability of drawing two aces without replacement from a deck of 52 cards\n",
        "\n",
        "total_cards = 52\n",
        "ace_cards = 4\n",
        "\n",
        "prob_first_ace = ace_cards / total_cards\n",
        "prob_second_ace = (ace_cards - 1) / (total_cards - 1)\n",
        "\n",
        "prob_two_aces = prob_first_ace * prob_second_ace\n",
        "\n",
        "print(prob_two_aces)\n",
        "\n",
        "# Task 6: Calculate the probability of drawing two red cards without replace-\n",
        "# ment from a deck (26 red cards, 52 total). Print the result."
      ],
      "metadata": {
        "id": "9CRUOXsPVexY"
      },
      "execution_count": null,
      "outputs": []
    }
  ]
}